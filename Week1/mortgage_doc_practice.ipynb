{
  "nbformat": 4,
  "nbformat_minor": 0,
  "metadata": {
    "colab": {
      "provenance": [],
      "authorship_tag": "ABX9TyMgXN5tODEUjuUa26vlJdJU",
      "include_colab_link": true
    },
    "kernelspec": {
      "name": "python3",
      "display_name": "Python 3"
    },
    "language_info": {
      "name": "python"
    }
  },
  "cells": [
    {
      "cell_type": "markdown",
      "metadata": {
        "id": "view-in-github",
        "colab_type": "text"
      },
      "source": [
        "<a href=\"https://colab.research.google.com/github/jobasap/outamation-ai-externship-2025/blob/main/Week1/mortgage_doc_practice.ipynb\" target=\"_parent\"><img src=\"https://colab.research.google.com/assets/colab-badge.svg\" alt=\"Open In Colab\"/></a>"
      ]
    },
    {
      "cell_type": "code",
      "execution_count": 1,
      "metadata": {
        "id": "zzKzIk7zEdbA",
        "colab": {
          "base_uri": "https://localhost:8080/"
        },
        "outputId": "bdc5d437-b2fe-4e42-b7da-5a70f8dcd3b2"
      },
      "outputs": [
        {
          "output_type": "stream",
          "name": "stdout",
          "text": [
            "Borrower Names: ['John K. Williams', 'Maria L. Williams']\n",
            "Loan Date: ['03/12/2024']\n",
            "Monthly Income: ['$5,600']\n",
            "Account Number: ['345679875432']\n"
          ]
        }
      ],
      "source": [
        "import re\n",
        "\n",
        "# Simulated unstructured mortgage document (text)\n",
        "mortgage_text = \"\"\"\n",
        "John K. Williams applied for a loan on 03/12/2024 with a monthly income of $5,600.\n",
        "His spouse, Maria L. Williams, is listed as a co-borrower. Their address is 124 Maple St, Austin, TX 78701.\n",
        "The account number is 345679875432 and routing number is 021000021.\n",
        "\"\"\"\n",
        "\n",
        "# Extract names using a pattern (first and last name)\n",
        "names = re.findall(r'[A-Z][a-z]+\\s[A-Z]\\.\\s[A-Z][a-z]+', mortgage_text)\n",
        "\n",
        "# Extract dates\n",
        "dates = re.findall(r'\\d{2}/\\d{2}/\\d{4}', mortgage_text)\n",
        "\n",
        "# Extract income\n",
        "income = re.findall(r'\\$\\d{1,3}(?:,\\d{3})*(?:\\.\\d{2})?', mortgage_text)\n",
        "\n",
        "# Extract account numbers\n",
        "accounts = re.findall(r'\\b\\d{12}\\b', mortgage_text)\n",
        "\n",
        "print(\"Borrower Names:\", names)\n",
        "print(\"Loan Date:\", dates)\n",
        "print(\"Monthly Income:\", income)\n",
        "print(\"Account Number:\", accounts)\n"
      ]
    },
    {
      "cell_type": "code",
      "source": [],
      "metadata": {
        "id": "9zw2gn6THzHa"
      },
      "execution_count": null,
      "outputs": []
    }
  ]
}